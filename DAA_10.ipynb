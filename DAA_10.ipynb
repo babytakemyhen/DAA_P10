{
  "nbformat": 4,
  "nbformat_minor": 0,
  "metadata": {
    "colab": {
      "provenance": []
    },
    "kernelspec": {
      "name": "python3",
      "display_name": "Python 3"
    },
    "language_info": {
      "name": "python"
    }
  },
  "cells": [
    {
      "cell_type": "code",
      "execution_count": 13,
      "metadata": {
        "colab": {
          "base_uri": "https://localhost:8080/"
        },
        "id": "tTfoPtcYqfV7",
        "outputId": "1af557be-f5a1-47f0-d18e-3f21deecaa42"
      },
      "outputs": [
        {
          "output_type": "stream",
          "name": "stdout",
          "text": [
            "Looking in indexes: https://pypi.org/simple, https://us-python.pkg.dev/colab-wheels/public/simple/\n",
            "Requirement already satisfied: pulp==2.3.1 in /usr/local/lib/python3.7/dist-packages (2.3.1)\n",
            "Requirement already satisfied: amply>=0.1.2 in /usr/local/lib/python3.7/dist-packages (from pulp==2.3.1) (0.1.5)\n",
            "Requirement already satisfied: docutils>=0.3 in /usr/local/lib/python3.7/dist-packages (from amply>=0.1.2->pulp==2.3.1) (0.17.1)\n",
            "Requirement already satisfied: pyparsing in /usr/local/lib/python3.7/dist-packages (from amply>=0.1.2->pulp==2.3.1) (3.0.9)\n"
          ]
        }
      ],
      "source": [
        "pip install pulp==2.3.1"
      ]
    },
    {
      "cell_type": "code",
      "source": [
        "import pulp \n",
        "\n",
        "#Instantiate our problem class \n",
        "model = pulp.LpProblem(\"ProfitMaximisingProblem\", pulp.LpMaximize)\n",
        "\n",
        "A= pulp.LpVariable('A', lowBound=0, cat='Integer')\n",
        "B= pulp.LpVariable('B', lowBound=0, cat='Integer')\n",
        "\n",
        "#Objective function \n",
        "model += 5000*A + 2500*B, \"Profit\"\n",
        "#Constraints \n",
        "model += 3*A + 2*B<=20\n",
        "model += 4*A + 3*B<=30\n",
        "model += 4*A + 3*B<=44\n",
        "\n",
        "#Solve our problem \n",
        "model.solve()\n",
        "pulp.LpStatus[model.status]\n",
        "\n",
        "print (A.varValue)\n",
        "print (B.varValue)\n",
        "\n",
        "print (pulp.value(model.objective))"
      ],
      "metadata": {
        "colab": {
          "base_uri": "https://localhost:8080/"
        },
        "id": "EZEpRTEhrG-a",
        "outputId": "d8896e21-645b-41e6-ba55-d4cb5a9fec84"
      },
      "execution_count": 14,
      "outputs": [
        {
          "output_type": "stream",
          "name": "stdout",
          "text": [
            "6.0\n",
            "1.0\n",
            "32500.0\n"
          ]
        }
      ]
    },
    {
      "cell_type": "code",
      "source": [
        "x = pulp.LpVariable ('x', lowBound= 0, cat='Integer')\n",
        "y = pulp.LpVariable ('y', lowBound= 0, cat='Integer')\n",
        "#Objective function \n",
        "model += 5000 * x + 2500 * y, \"Profit\"\n",
        "\n",
        "#Constraints\n",
        "model += 4*x + 3*y <= 34\n",
        "model += 5*x + 1*y <= 37\n",
        "\n",
        "model.solve()\n",
        "pulp.LpStatus[model.status]\n",
        "\n",
        "print (x.varValue)\n",
        "print (y.varValue)\n",
        "\n",
        "print (pulp.value(model.objective))\n"
      ],
      "metadata": {
        "colab": {
          "base_uri": "https://localhost:8080/"
        },
        "id": "drm8BiOlrNhM",
        "outputId": "c043a4ac-67b5-4da8-9874-3a9bfe53a9ac"
      },
      "execution_count": 15,
      "outputs": [
        {
          "output_type": "stream",
          "name": "stdout",
          "text": [
            "7.0\n",
            "2.0\n",
            "40000.0\n"
          ]
        }
      ]
    },
    {
      "cell_type": "code",
      "source": [
        "p = pulp.LpVariable ('p', lowBound= 0, cat='Integer')\n",
        "b = pulp.LpVariable ('b', lowBound= 0, cat='Integer')\n",
        "\n",
        "#Constraints\n",
        "model += 3*p + 4*b <= 11000\n",
        "model += 1*p + 7*b <= 15000\n",
        "model += 2 *p + 6 * b, 'Hasil'\n",
        "\n",
        "model.solve()\n",
        "pulp.LpStatus[model.status]\n",
        "\n",
        "print (p.varValue)\n",
        "print (b.varValue)\n",
        "\n",
        "print (pulp.value(model.objective))"
      ],
      "metadata": {
        "colab": {
          "base_uri": "https://localhost:8080/"
        },
        "id": "HzySpjJjrSek",
        "outputId": "5cea9053-92e0-48e4-8302-d9db4d53bed2"
      },
      "execution_count": 16,
      "outputs": [
        {
          "output_type": "stream",
          "name": "stdout",
          "text": [
            "1000.0\n",
            "2000.0\n",
            "14000.0\n"
          ]
        }
      ]
    },
    {
      "cell_type": "code",
      "source": [
        "x = pulp.LpVariable ('x', lowBound= 0, cat='Integer')\n",
        "y = pulp.LpVariable ('y', lowBound= 0, cat='Integer')\n",
        "#Objective function \n",
        "model += 2* x + 2 * y, \"Keliling\"\n",
        "\n",
        "#Constraints\n",
        "model += 2 * x + 2 * y == 44\n",
        "model += 2 * x + 2 * (x - 6) == 44\n",
        "\n",
        "model.solve()\n",
        "pulp.LpStatus[model.status]\n",
        "\n",
        "print (x.varValue)\n",
        "print (y.varValue)\n",
        "\n",
        "print (pulp.value(model.objective))"
      ],
      "metadata": {
        "id": "6SB31o7YraXB"
      },
      "execution_count": null,
      "outputs": []
    },
    {
      "cell_type": "code",
      "source": [
        "import numpy as np\n",
        "from scipy.optimize import linprog\n",
        "A = np.array([[1,0],[2,3],[1,1],[-1,0],[0,-1]])\n",
        "b = np.array([16,19,8,0,0])\n",
        "c = np.array([-5,-7])\n",
        "\n",
        "res = linprog(c,A_ub=A, b_ub = b)\n",
        "print('Optimal value:', round(res.fun*-1, ndigits=2),\n",
        "      '\\nx values: ', res.x,\n",
        "      '\\nNumber of iterations performed: ', res.nit,\n",
        "      '\\nStatus: ', res.message)"
      ],
      "metadata": {
        "colab": {
          "base_uri": "https://localhost:8080/"
        },
        "id": "cwdevpU9sjhq",
        "outputId": "fa2f79c7-6ae4-4585-9296-84488813994d"
      },
      "execution_count": 19,
      "outputs": [
        {
          "output_type": "stream",
          "name": "stdout",
          "text": [
            "Optimal value: 46.0 \n",
            "x values:  [5. 3.] \n",
            "Number of iterations performed:  5 \n",
            "Status:  Optimization terminated successfully.\n"
          ]
        }
      ]
    },
    {
      "cell_type": "code",
      "source": [
        "import numpy as np\n",
        "from scipy.optimize import linprog\n",
        "A = np.array([[4,12],[2,1]])\n",
        "b = np.array([28,21])\n",
        "c = np.array([-1,-5])\n",
        "\n",
        "res = linprog(c,A_ub=A, b_ub = b)\n",
        "print('Optimal value:', round(res.fun*-1, ndigits=2),\n",
        "      '\\nx values: ', res.x,\n",
        "      '\\nNumber of iterations performed: ', res.nit,\n",
        "      '\\nStatus: ', res.message)"
      ],
      "metadata": {
        "colab": {
          "base_uri": "https://localhost:8080/"
        },
        "id": "25aaUE3rsl8p",
        "outputId": "d31a7861-2135-4c13-a7d8-0d31acd0e3b2"
      },
      "execution_count": 20,
      "outputs": [
        {
          "output_type": "stream",
          "name": "stdout",
          "text": [
            "Optimal value: 11.67 \n",
            "x values:  [1.26448491e-11 2.33333333e+00] \n",
            "Number of iterations performed:  5 \n",
            "Status:  Optimization terminated successfully.\n"
          ]
        }
      ]
    },
    {
      "cell_type": "code",
      "source": [
        "A = np.array([[3, 4], [1, 1], [-1, 0], [0, -1]])\n",
        "b = np.array([55, 16, 0, 0])\n",
        "c = np.array([-1, -1])\n",
        "\n",
        "res = linprog(c, A_ub=A, b_ub=b)\n",
        "\n",
        "print('Optimal Valus:', round(res.fun*-1, ndigits=2),\n",
        "      '\\nx values:', res.x,\n",
        "      '\\nNumber of iterations performed:', res.nit,\n",
        "      '\\nStatus:', res.message)"
      ],
      "metadata": {
        "colab": {
          "base_uri": "https://localhost:8080/"
        },
        "id": "11_xyFXgsqhs",
        "outputId": "8c0d21e0-ca20-45e5-91c9-7fc8643b56c4"
      },
      "execution_count": 21,
      "outputs": [
        {
          "output_type": "stream",
          "name": "stdout",
          "text": [
            "Optimal Valus: 16.0 \n",
            "x values: [11.28137676  4.71862324] \n",
            "Number of iterations performed: 5 \n",
            "Status: Optimization terminated successfully.\n"
          ]
        }
      ]
    }
  ]
}